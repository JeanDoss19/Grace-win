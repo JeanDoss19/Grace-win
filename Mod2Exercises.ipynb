{
 "cells": [
  {
   "cell_type": "markdown",
   "metadata": {},
   "source": [
    "# Module 2 Exercises - Explore Data"
   ]
  },
  {
   "cell_type": "markdown",
   "metadata": {},
   "source": [
    "### Exercise 1:\n",
    "Use the pandas library to read in the file \"travel-times.csv\" as a dataframe. Set the dataframe's variable name as \"travel_df\".\n",
    "\n",
    "*Note*: Download the file from [here](https://notebooks.azure.com/priesterkc/projects/DABmaterial/tree/Lv1%20Data%20Analytics/datasets)."
   ]
  },
  {
   "cell_type": "code",
   "execution_count": 5,
   "metadata": {},
   "outputs": [],
   "source": [
    "import pandas as pd\n",
    "location=\"datasets_travel_times.csv\"\n",
    "traveldf=pd.read_csv(location)"
   ]
  },
  {
   "cell_type": "code",
   "execution_count": 7,
   "metadata": {},
   "outputs": [
    {
     "data": {
      "text/html": [
       "<div>\n",
       "<style scoped>\n",
       "    .dataframe tbody tr th:only-of-type {\n",
       "        vertical-align: middle;\n",
       "    }\n",
       "\n",
       "    .dataframe tbody tr th {\n",
       "        vertical-align: top;\n",
       "    }\n",
       "\n",
       "    .dataframe thead th {\n",
       "        text-align: right;\n",
       "    }\n",
       "</style>\n",
       "<table border=\"1\" class=\"dataframe\">\n",
       "  <thead>\n",
       "    <tr style=\"text-align: right;\">\n",
       "      <th></th>\n",
       "      <th>Date</th>\n",
       "      <th>StartTime</th>\n",
       "      <th>DayOfWeek</th>\n",
       "      <th>GoingTo</th>\n",
       "      <th>Distance</th>\n",
       "      <th>MaxSpeed</th>\n",
       "      <th>AvgSpeed</th>\n",
       "      <th>AvgMovingSpeed</th>\n",
       "      <th>FuelEconomy</th>\n",
       "      <th>TotalTime</th>\n",
       "      <th>MovingTime</th>\n",
       "      <th>Take407All</th>\n",
       "      <th>Comments</th>\n",
       "    </tr>\n",
       "  </thead>\n",
       "  <tbody>\n",
       "    <tr>\n",
       "      <th>0</th>\n",
       "      <td>1/6/2012</td>\n",
       "      <td>16:37</td>\n",
       "      <td>Friday</td>\n",
       "      <td>Home</td>\n",
       "      <td>51.29</td>\n",
       "      <td>127.4</td>\n",
       "      <td>78.3</td>\n",
       "      <td>84.8</td>\n",
       "      <td>NaN</td>\n",
       "      <td>39.3</td>\n",
       "      <td>36.3</td>\n",
       "      <td>No</td>\n",
       "      <td>NaN</td>\n",
       "    </tr>\n",
       "    <tr>\n",
       "      <th>1</th>\n",
       "      <td>1/6/2012</td>\n",
       "      <td>08:20</td>\n",
       "      <td>Friday</td>\n",
       "      <td>GSK</td>\n",
       "      <td>51.63</td>\n",
       "      <td>130.3</td>\n",
       "      <td>81.8</td>\n",
       "      <td>88.9</td>\n",
       "      <td>NaN</td>\n",
       "      <td>37.9</td>\n",
       "      <td>34.9</td>\n",
       "      <td>No</td>\n",
       "      <td>NaN</td>\n",
       "    </tr>\n",
       "    <tr>\n",
       "      <th>2</th>\n",
       "      <td>1/4/2012</td>\n",
       "      <td>16:17</td>\n",
       "      <td>Wednesday</td>\n",
       "      <td>Home</td>\n",
       "      <td>51.27</td>\n",
       "      <td>127.4</td>\n",
       "      <td>82.0</td>\n",
       "      <td>85.8</td>\n",
       "      <td>NaN</td>\n",
       "      <td>37.5</td>\n",
       "      <td>35.9</td>\n",
       "      <td>No</td>\n",
       "      <td>NaN</td>\n",
       "    </tr>\n",
       "    <tr>\n",
       "      <th>3</th>\n",
       "      <td>1/4/2012</td>\n",
       "      <td>07:53</td>\n",
       "      <td>Wednesday</td>\n",
       "      <td>GSK</td>\n",
       "      <td>49.17</td>\n",
       "      <td>132.3</td>\n",
       "      <td>74.2</td>\n",
       "      <td>82.9</td>\n",
       "      <td>NaN</td>\n",
       "      <td>39.8</td>\n",
       "      <td>35.6</td>\n",
       "      <td>No</td>\n",
       "      <td>NaN</td>\n",
       "    </tr>\n",
       "    <tr>\n",
       "      <th>4</th>\n",
       "      <td>1/3/2012</td>\n",
       "      <td>18:57</td>\n",
       "      <td>Tuesday</td>\n",
       "      <td>Home</td>\n",
       "      <td>51.15</td>\n",
       "      <td>136.2</td>\n",
       "      <td>83.4</td>\n",
       "      <td>88.1</td>\n",
       "      <td>NaN</td>\n",
       "      <td>36.8</td>\n",
       "      <td>34.8</td>\n",
       "      <td>No</td>\n",
       "      <td>NaN</td>\n",
       "    </tr>\n",
       "  </tbody>\n",
       "</table>\n",
       "</div>"
      ],
      "text/plain": [
       "       Date StartTime  DayOfWeek GoingTo  Distance  MaxSpeed  AvgSpeed  \\\n",
       "0  1/6/2012     16:37     Friday    Home     51.29     127.4      78.3   \n",
       "1  1/6/2012     08:20     Friday     GSK     51.63     130.3      81.8   \n",
       "2  1/4/2012     16:17  Wednesday    Home     51.27     127.4      82.0   \n",
       "3  1/4/2012     07:53  Wednesday     GSK     49.17     132.3      74.2   \n",
       "4  1/3/2012     18:57    Tuesday    Home     51.15     136.2      83.4   \n",
       "\n",
       "   AvgMovingSpeed FuelEconomy  TotalTime  MovingTime Take407All Comments  \n",
       "0            84.8         NaN       39.3        36.3         No      NaN  \n",
       "1            88.9         NaN       37.9        34.9         No      NaN  \n",
       "2            85.8         NaN       37.5        35.9         No      NaN  \n",
       "3            82.9         NaN       39.8        35.6         No      NaN  \n",
       "4            88.1         NaN       36.8        34.8         No      NaN  "
      ]
     },
     "execution_count": 7,
     "metadata": {},
     "output_type": "execute_result"
    }
   ],
   "source": [
    "traveldf.head()"
   ]
  },
  {
   "cell_type": "markdown",
   "metadata": {},
   "source": [
    "### Exercise 2:\n",
    "\n",
    "Use the pandas library to read in the file \"income_expenses.xlsx\" as a dataframe. Set the dataframe's variable name as \"expense_df\".\n",
    "\n",
    "*Note*: Download the file from [here](https://notebooks.azure.com/priesterkc/projects/DABmaterial/tree/Lv1%20Data%20Analytics/datasets)."
   ]
  },
  {
   "cell_type": "code",
   "execution_count": 13,
   "metadata": {},
   "outputs": [],
   "source": [
    "\n",
    "location=\"datasets_income_expenses.xlsx\"\n",
    "expense_df=pd.read_excel(location)"
   ]
  },
  {
   "cell_type": "markdown",
   "metadata": {},
   "source": [
    "### Exercise 3:\n",
    "Using the lists in the cell below, write code that will zip up the lists and make them into one list, then turn it into a dataframe. Next, export the dataframe as a csv file. Then try exporting the dataframe as an Excel file."
   ]
  },
  {
   "cell_type": "code",
   "execution_count": 17,
   "metadata": {},
   "outputs": [],
   "source": [
    "shoe = ['Nike','Adidas','New Balance','Puma','Reebok']\n",
    "price = [176,59,47,38,99]\n",
    "\n",
    "shoeList = list(zip(shoe,price))\n",
    "\n",
    "df = pd.DataFrame(data = shoeList, columns=['Names','price'])\n",
    "df.to_csv('pricecode.csv',index=False,header=False)"
   ]
  },
  {
   "cell_type": "code",
   "execution_count": 18,
   "metadata": {},
   "outputs": [
    {
     "data": {
      "text/html": [
       "<div>\n",
       "<style scoped>\n",
       "    .dataframe tbody tr th:only-of-type {\n",
       "        vertical-align: middle;\n",
       "    }\n",
       "\n",
       "    .dataframe tbody tr th {\n",
       "        vertical-align: top;\n",
       "    }\n",
       "\n",
       "    .dataframe thead th {\n",
       "        text-align: right;\n",
       "    }\n",
       "</style>\n",
       "<table border=\"1\" class=\"dataframe\">\n",
       "  <thead>\n",
       "    <tr style=\"text-align: right;\">\n",
       "      <th></th>\n",
       "      <th>Names</th>\n",
       "      <th>price</th>\n",
       "    </tr>\n",
       "  </thead>\n",
       "  <tbody>\n",
       "    <tr>\n",
       "      <th>0</th>\n",
       "      <td>Nike</td>\n",
       "      <td>176</td>\n",
       "    </tr>\n",
       "    <tr>\n",
       "      <th>1</th>\n",
       "      <td>Adidas</td>\n",
       "      <td>59</td>\n",
       "    </tr>\n",
       "    <tr>\n",
       "      <th>2</th>\n",
       "      <td>New Balance</td>\n",
       "      <td>47</td>\n",
       "    </tr>\n",
       "    <tr>\n",
       "      <th>3</th>\n",
       "      <td>Puma</td>\n",
       "      <td>38</td>\n",
       "    </tr>\n",
       "    <tr>\n",
       "      <th>4</th>\n",
       "      <td>Reebok</td>\n",
       "      <td>99</td>\n",
       "    </tr>\n",
       "  </tbody>\n",
       "</table>\n",
       "</div>"
      ],
      "text/plain": [
       "         Names  price\n",
       "0         Nike    176\n",
       "1       Adidas     59\n",
       "2  New Balance     47\n",
       "3         Puma     38\n",
       "4       Reebok     99"
      ]
     },
     "execution_count": 18,
     "metadata": {},
     "output_type": "execute_result"
    }
   ],
   "source": [
    "df.head()"
   ]
  },
  {
   "cell_type": "markdown",
   "metadata": {},
   "source": [
    "### Exercise 4:\n",
    "\n",
    "What columns are in the travel_df dataframe? What columns are in the expense_df dataframe?"
   ]
  },
  {
   "cell_type": "code",
   "execution_count": 38,
   "metadata": {},
   "outputs": [
    {
     "data": {
      "text/plain": [
       "Index(['Date', 'StartTime', 'DayOfWeek', 'GoingTo', 'Distance', 'MaxSpeed',\n",
       "       'AvgSpeed', 'AvgMovingSpeed', 'FuelEconomy', 'TotalTime', 'MovingTime',\n",
       "       'Take407All', 'Comments'],\n",
       "      dtype='object')"
      ]
     },
     "execution_count": 38,
     "metadata": {},
     "output_type": "execute_result"
    }
   ],
   "source": [
    "traveldf.columns"
   ]
  },
  {
   "cell_type": "code",
   "execution_count": 20,
   "metadata": {},
   "outputs": [
    {
     "data": {
      "text/plain": [
       "Index(['Income Range', 'Category', 'Amount', 'Class_level'], dtype='object')"
      ]
     },
     "execution_count": 20,
     "metadata": {},
     "output_type": "execute_result"
    }
   ],
   "source": [
    "expense_df.columns"
   ]
  },
  {
   "cell_type": "markdown",
   "metadata": {},
   "source": [
    "### Exercise 5:\n",
    "\n",
    "Using the expense_df dataframe, sum the expense amount using the group_by function by income range."
   ]
  },
  {
   "cell_type": "code",
   "execution_count": 23,
   "metadata": {},
   "outputs": [
    {
     "data": {
      "text/plain": [
       "Income Range\n",
       "$100-200      139.10\n",
       "$1000+       1125.00\n",
       "$200-300      249.45\n",
       "$300-400      335.68\n",
       "$400-500      433.82\n",
       "$500-750      557.00\n",
       "$750-1000     880.00\n",
       "Name: Amount, dtype: float64"
      ]
     },
     "execution_count": 23,
     "metadata": {},
     "output_type": "execute_result"
    }
   ],
   "source": [
    "expense_df['Amount'].groupby(expense_df['Income Range']).sum()"
   ]
  },
  {
   "cell_type": "markdown",
   "metadata": {},
   "source": [
    "### Exercise 6:\n",
    "\n",
    "Using the travel_df dataframe and pivot_table function, get the average total time by day of the week and direction traveled (Home/GSK). "
   ]
  },
  {
   "cell_type": "code",
   "execution_count": 33,
   "metadata": {},
   "outputs": [
    {
     "data": {
      "text/html": [
       "<div>\n",
       "<style scoped>\n",
       "    .dataframe tbody tr th:only-of-type {\n",
       "        vertical-align: middle;\n",
       "    }\n",
       "\n",
       "    .dataframe tbody tr th {\n",
       "        vertical-align: top;\n",
       "    }\n",
       "\n",
       "    .dataframe thead th {\n",
       "        text-align: right;\n",
       "    }\n",
       "</style>\n",
       "<table border=\"1\" class=\"dataframe\">\n",
       "  <thead>\n",
       "    <tr style=\"text-align: right;\">\n",
       "      <th></th>\n",
       "      <th>TotalTime</th>\n",
       "    </tr>\n",
       "    <tr>\n",
       "      <th>DayOfWeek</th>\n",
       "      <th></th>\n",
       "    </tr>\n",
       "  </thead>\n",
       "  <tbody>\n",
       "    <tr>\n",
       "      <th>Friday</th>\n",
       "      <td>37.922222</td>\n",
       "    </tr>\n",
       "    <tr>\n",
       "      <th>Monday</th>\n",
       "      <td>43.197436</td>\n",
       "    </tr>\n",
       "    <tr>\n",
       "      <th>Thursday</th>\n",
       "      <td>41.177273</td>\n",
       "    </tr>\n",
       "    <tr>\n",
       "      <th>Tuesday</th>\n",
       "      <td>42.520833</td>\n",
       "    </tr>\n",
       "    <tr>\n",
       "      <th>Wednesday</th>\n",
       "      <td>43.170213</td>\n",
       "    </tr>\n",
       "  </tbody>\n",
       "</table>\n",
       "</div>"
      ],
      "text/plain": [
       "           TotalTime\n",
       "DayOfWeek           \n",
       "Friday     37.922222\n",
       "Monday     43.197436\n",
       "Thursday   41.177273\n",
       "Tuesday    42.520833\n",
       "Wednesday  43.170213"
      ]
     },
     "execution_count": 33,
     "metadata": {},
     "output_type": "execute_result"
    }
   ],
   "source": [
    "pd.pivot_table(traveldf, values=['TotalTime'],index=['DayOfWeek'])"
   ]
  },
  {
   "cell_type": "markdown",
   "metadata": {},
   "source": [
    "### Exercise 7:\n",
    "\n",
    "Choose either the travel_df or expense_df and do some exploratory analysis."
   ]
  },
  {
   "cell_type": "code",
   "execution_count": 39,
   "metadata": {},
   "outputs": [
    {
     "data": {
      "text/plain": [
       "41.90439024390244"
      ]
     },
     "execution_count": 39,
     "metadata": {},
     "output_type": "execute_result"
    }
   ],
   "source": [
    "traveldf['TotalTime'].mean()"
   ]
  },
  {
   "cell_type": "code",
   "execution_count": null,
   "metadata": {},
   "outputs": [],
   "source": []
  }
 ],
 "metadata": {
  "kernelspec": {
   "display_name": "Python 3",
   "language": "python",
   "name": "python3"
  },
  "language_info": {
   "codemirror_mode": {
    "name": "ipython",
    "version": 3
   },
   "file_extension": ".py",
   "mimetype": "text/x-python",
   "name": "python",
   "nbconvert_exporter": "python",
   "pygments_lexer": "ipython3",
   "version": "3.7.3"
  }
 },
 "nbformat": 4,
 "nbformat_minor": 2
}
